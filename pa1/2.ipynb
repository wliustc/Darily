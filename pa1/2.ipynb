{
 "cells": [
  {
   "cell_type": "code",
   "execution_count": 31,
   "metadata": {},
   "outputs": [],
   "source": [
    "import os\n",
    "import requests\n",
    "import urllib\n",
    "import lxml\n",
    "from lxml import etree"
   ]
  },
  {
   "cell_type": "markdown",
   "metadata": {},
   "source": [
    "# 58二手房"
   ]
  },
  {
   "cell_type": "code",
   "execution_count": 18,
   "metadata": {},
   "outputs": [
    {
     "name": "stdout",
     "output_type": "stream",
     "text": [
      "successfully\n"
     ]
    }
   ],
   "source": [
    "url = \"https://bj.58.com/ershoufang/?utm_source=market&spm=u-2d2yxv86y3v43nkddh1.BDPCPZ_BT&PGTID=0d100000-0000-1222-95b8-5616e55e5ce6&ClickID=3\"\n",
    "header = {\n",
    "    \"User-Agent\":\"Mozilla/5.0 (Windows NT 6.1; WOW64) AppleWebKit/537.36 (KHTML, like Gecko) Chrome/70.0.3538.110 Safari/537.36\"\n",
    "}\n",
    "house_obj = requests.get(url=url, headers=header).text\n",
    "tree = etree.HTML(house_obj)\n",
    "house_list = tree.xpath('//ul[@class=\"house-list-wrap\"]/li')\n",
    "f = open(\"58二手房源\",\"w\",encoding=\"utf-8\")\n",
    "for house in house_list:\n",
    "    title = house.xpath('div[@class=\"list-info\"]/h2/a/text()')[0]\n",
    "    price_sum_list = house.xpath('div[3]//text()')\n",
    "    price_sum = \"\".join(price_sum_list)\n",
    "    f.write(title)\n",
    "    f.write(price_sum)\n",
    "print(\"successfully\")\n",
    "f.close()"
   ]
  },
  {
   "cell_type": "code",
   "execution_count": 32,
   "metadata": {},
   "outputs": [
    {
     "name": "stdout",
     "output_type": "stream",
     "text": [
      "海琴烟冰公主 黑色晚礼服 download successful\n",
      "鬼刀风铃日落4K高清壁纸 download successful\n",
      "鬼刀小绿 唯美背部 龙 4 download successful\n",
      "冰公主海琴烟 北漠公主风 download successful\n",
      "狮子 鬼刀风铃公主高清图 download successful\n",
      "DNF赫尔德 鬼刀4k壁纸 download successful\n",
      "lol娑娜大胸白丝4k壁纸 download successful\n",
      "江南烧酒4k动漫壁纸 download successful\n",
      "冰公主 士兵 白鸽和圣堂 download successful\n",
      "鬼刀wlop原画摩托车4K壁 download successful\n",
      "鬼刀冰公主 夏季 4k壁纸 download successful\n",
      "Remembering 4k壁纸 download successful\n",
      "鬼刀冰公主海琴烟梳妆4K download successful\n",
      "冰公主 国王 梦想 鬼刀4 download successful\n",
      "风玲 wlop鬼刀4k壁纸 download successful\n",
      "鬼刀小憩4k高清壁纸 download successful\n",
      "星树4k壁纸 by Chibionp download successful\n",
      "风玲 北漠公主 面纱 鬼刀 download successful\n",
      "星空背景 绘画 夜空 4k壁 download successful\n",
      "风铃公主 天使 翅膀 鬼刀 download successful\n",
      "天使 诞生 初生 鬼刀4k壁 download successful\n",
      "鬼刀北漠公主风铃4k桌面 download successful\n",
      "WLOP鬼刀 孔明灯 海琴烟 download successful\n",
      "守望先锋游戏场景3440x1 download successful\n",
      "宫崎骏 千与千寻 天空之 download successful\n",
      "犬神 睡莲花盆 咖啡店 5 download successful\n",
      "fate series 英灵旅装4k download successful\n",
      "黎明之剑 元宵快乐 4k动 download successful\n",
      "换衣服可爱女孩 Fate Gr download successful\n",
      "飞艇 动物 大厦 女孩 猫 download successful\n",
      "海琴烟冰公主 帽子 鬼刀 download successful\n",
      "城堡 花园 草丛 树木 唯 download successful\n",
      "风铃 蝴蝶 鬼刀4k手机壁 download successful\n",
      "抬头仰望夜空星空动漫壁 download successful\n",
      "WLOP 鬼刀 小绿 4K壁纸 download successful\n",
      "舞会 冰公主海琴烟 鬼刀 download successful\n",
      "绿眼睛 动画女孩 帽子 4 download successful\n",
      "零濡鸦之巫女 不来方夕莉 download successful\n",
      "女巫 帽子魔法杖 鱼 4k动 download successful\n",
      "鲜花 可爱少女 紫色眼睛 download successful\n",
      "两个女孩 裙子 花朵 天空 download successful\n",
      "初音未来 音符 4k动漫壁 download successful\n",
      "橙色云插画4k壁纸 download successful\n",
      "Lost迷路 by RicoDZ 4k壁 download successful\n",
      "天空 夕阳 插画风景4k动 download successful\n",
      "可爱少女插画4k电脑壁纸 download successful\n",
      "龙珠托破4k壁纸3840x216 download successful\n",
      "龙珠孙悟空8k壁纸7680x4 download successful\n",
      "龙珠孙悟空4k壁纸 download successful\n",
      "fate冲田总司4k动漫壁纸 download successful\n",
      "小绿 唯美背部 龙 3440x download successful\n",
      "Ash灰 鬼刀4k壁纸 download successful\n",
      "鬼刀萨利娅4K壁纸图片 download successful\n",
      "少女 奇幻 唯美艺术4k动 download successful\n",
      "《最终幻想XV》月亮下恋 download successful\n",
      "fate series archer 4k动 download successful\n",
      "自由之路4k动漫壁纸 download successful\n",
      "Miku 天空 相框 初音未来 download successful\n",
      "初音未来和小猫一起4k动 download successful\n",
      "初音未来和小猫一起8k动 download successful\n",
      "Reloaded by Ateliz 4k壁 download successful\n",
      "一个女孩 Implied by At download successful\n",
      "飞行少女4k壁纸 download successful\n",
      "tex by_ateliz 4k壁纸 download successful\n",
      "失乐园 by_ateliz_dcycj download successful\n",
      "跌倒的女孩4k壁纸 download successful\n",
      "森林 小女孩 熊 4k壁纸3 download successful\n",
      "鬼刀北漠公主风铃 翅膀  download successful\n",
      "2019初音未来4k动漫壁纸 download successful\n",
      "女子女孩子 泳装 水中4k download successful\n",
      "少女前线 连衣裙 吊带女 download successful\n",
      "天使辉夜 恋人 4k动漫壁 download successful\n",
      "女孩子制服 黑色裤袜 4k download successful\n",
      "fate fgo 弗兰肯斯坦 肯 download successful\n",
      "寂寞夜 猫 窗台 城市夜晚 download successful\n",
      "小绿南山脚下祭故人姐姐 download successful\n",
      "心灵的平静漫步 by TomT download successful\n",
      "熟悉的地方 by TomTC 壁 download successful\n",
      "猫女4k动漫壁纸 download successful\n",
      "原罪 冰公主 鬼刀4k原图 download successful\n",
      "冰公主 牺牲的骑士 鬼刀 download successful\n",
      "崩壊3rd动漫少女4k壁纸 download successful\n",
      "阴阳师为崽而战4k壁纸 download successful\n",
      "秋天 枫叶 两个女孩 和服 download successful\n",
      "successfullly\n"
     ]
    }
   ],
   "source": [
    "if not os.path.exists('./imgs'):\n",
    "    os.mkdir('./imgs')\n",
    "for i in range(1, 5):\n",
    "    \n",
    "    if i == 1:\n",
    "        url = \"http://pic.netbian.com/4kdongman/\"\n",
    "    else:\n",
    "        url = f\"http://pic.netbian.com/4kdongman/index_{i}.html\"\n",
    "    img_obj = requests.get(url = url, headers=header).text\n",
    "    tree = etree.HTML(img_obj)\n",
    "    img_list = tree.xpath('//div[@class=\"slist\"]/ul[@class=\"clearfix\"]/li')\n",
    "    for img in img_list:\n",
    "        img_title = img.xpath('a/b/text()')[0]\n",
    "        img_title = img_title.encode('iso-8859-1').decode('gbk')\n",
    "        img_url = \"http://pic.netbian.com\"+ img.xpath('a/@href')[0]    \n",
    "        img_4k_obj = requests.get(url=img_url, headers=header).text\n",
    "        tree = etree.HTML(img_4k_obj)\n",
    "        img_4k_url = \"http://pic.netbian.com\" + tree.xpath('//div[@class=\"photo-pic\"]/a/img/@src')[0]\n",
    "        urllib.request.urlretrieve(url=img_4k_url, filename=f\"./imgs/{img_title}.jpg\")\n",
    "        print(f\"{img_title} download successful\")\n",
    "print(\"successfullly\")  \n",
    "        "
   ]
  },
  {
   "cell_type": "markdown",
   "metadata": {},
   "source": [
    "### 下载煎蛋网中的图片数据：http://jandan.net/ooxx"
   ]
  },
  {
   "cell_type": "code",
   "execution_count": null,
   "metadata": {},
   "outputs": [],
   "source": []
  }
 ],
 "metadata": {
  "kernelspec": {
   "display_name": "Python 3",
   "language": "python",
   "name": "python3"
  },
  "language_info": {
   "codemirror_mode": {
    "name": "ipython",
    "version": 3
   },
   "file_extension": ".py",
   "mimetype": "text/x-python",
   "name": "python",
   "nbconvert_exporter": "python",
   "pygments_lexer": "ipython3",
   "version": "3.7.0"
  }
 },
 "nbformat": 4,
 "nbformat_minor": 2
}

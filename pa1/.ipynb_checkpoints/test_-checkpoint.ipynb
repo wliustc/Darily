{
 "cells": [
  {
   "cell_type": "code",
   "execution_count": 1,
   "metadata": {},
   "outputs": [
    {
     "name": "stdout",
     "output_type": "stream",
     "text": [
      "第十天吃了 1 个桃子\n",
      "di9天吃了 4 个桃子\n",
      "di8天吃了 10 个桃子\n",
      "di7天吃了 22 个桃子\n",
      "di6天吃了 46 个桃子\n",
      "di5天吃了 94 个桃子\n",
      "di4天吃了 190 个桃子\n",
      "di3天吃了 382 个桃子\n",
      "di2天吃了 766 个桃子\n",
      "di1天吃了 1534 个桃子\n",
      "第一天共摘桃子 3049 个\n"
     ]
    }
   ],
   "source": [
    "def func():\n",
    "    print(\"第十天吃了 1 个桃子\")\n",
    "    sum = 1\n",
    "    ate_num = 1\n",
    "    n = 9\n",
    "    while n > 0:\n",
    "        ate_num = (ate_num + 1)*2\n",
    "        print(f\"di{n}天吃了 {ate_num} 个桃子\")\n",
    "        sum += ate_num\n",
    "        n -= 1\n",
    "    print(f\"第一天共摘桃子 {sum} 个\")\n",
    "        \n",
    "func()        "
   ]
  },
  {
   "cell_type": "code",
   "execution_count": null,
   "metadata": {},
   "outputs": [],
   "source": [
    "\n"
   ]
  }
 ],
 "metadata": {
  "kernelspec": {
   "display_name": "Python 3",
   "language": "python",
   "name": "python3"
  },
  "language_info": {
   "codemirror_mode": {
    "name": "ipython",
    "version": 3
   },
   "file_extension": ".py",
   "mimetype": "text/x-python",
   "name": "python",
   "nbconvert_exporter": "python",
   "pygments_lexer": "ipython3",
   "version": "3.7.0"
  }
 },
 "nbformat": 4,
 "nbformat_minor": 2
}

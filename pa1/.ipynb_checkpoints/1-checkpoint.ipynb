{
 "cells": [
  {
   "cell_type": "markdown",
   "metadata": {},
   "source": [
    "### 搜狗词条\n",
    "    "
   ]
  },
  {
   "cell_type": "code",
   "execution_count": null,
   "metadata": {},
   "outputs": [],
   "source": [
    "import requests\n",
    "import urllib\n",
    "from bs4 import BeautifulSoup"
   ]
  },
  {
   "cell_type": "code",
   "execution_count": 13,
   "metadata": {},
   "outputs": [
    {
     "name": "stdout",
     "output_type": "stream",
     "text": [
      "searching keywordfate\n",
      "successfully\n"
     ]
    }
   ],
   "source": [
    "search_content = input(\"searching keyword\")\n",
    "url = \"https://www.sogou.com/sogou\"\n",
    "data = {\n",
    "    \"query\":search_content,\n",
    "}\n",
    "search_result = requests.get(url=url, params=data).text\n",
    "filename = search_content + \".html\"\n",
    "with open(filename,\"w\",encoding=\"utf8\") as f:\n",
    "    f.write(search_result)\n",
    "    print(\"successfully\")"
   ]
  },
  {
   "cell_type": "markdown",
   "metadata": {},
   "source": [
    "### 爬取百度翻译结果"
   ]
  },
  {
   "cell_type": "code",
   "execution_count": 21,
   "metadata": {},
   "outputs": [
    {
     "name": "stdout",
     "output_type": "stream",
     "text": [
      "typing the contentfate\n",
      "{'errno': 0, 'data': [{'k': 'fate', 'v': 'n. 命运，宿命; 灾难，死亡; 命中注定的事（尤指坏事）; v. 注定;'}, {'k': 'fateful', 'v': 'adj. 决定性的; 命中注定的; 重大的; 预言性的;'}, {'k': 'Fate', 'v': ' [人名] 费特; [电影]宿命;'}, {'k': 'FATE', 'v': 'abbr. Fusing Arming Test and Evaluation 引线保险试验和评价;'}, {'k': 'fated', 'v': 'adj. 命运已定的，宿命的; 受命运支配的;'}]}\n"
     ]
    }
   ],
   "source": [
    "url = \"https://fanyi.baidu.com/sug\"\n",
    "trans_data = input(\"typing the content\")\n",
    "data = {\n",
    "    \"kw\": trans_data\n",
    "}\n",
    "translation = requests.post(url=url, params=data).json()\n",
    "print(translation)\n"
   ]
  },
  {
   "cell_type": "markdown",
   "metadata": {},
   "source": [
    "### 爬取豆瓣电影分类排行榜 https://movie.douban.com/中的电影详情数据"
   ]
  },
  {
   "cell_type": "code",
   "execution_count": 39,
   "metadata": {},
   "outputs": [
    {
     "name": "stdout",
     "output_type": "stream",
     "text": [
      "successfully\n"
     ]
    }
   ],
   "source": [
    "url = \"https://movie.douban.com/j/chart/top_list\"\n",
    "f=open(\"top100.txt\",\"w\",encoding=\"utf8\")\n",
    "for i in range(1, 6):\n",
    "    _num = i*20\n",
    "    data = {\n",
    "    \"type\": 17,\n",
    "    \"interval_id\": \"100:90\",\n",
    "    \"action\":\"\", \n",
    "    \"start\": _num,\n",
    "    \"limit\": 20\n",
    "    }\n",
    "    result_list = requests.get(url=url, params=data).json() \n",
    "    for result in result_list:\n",
    "        f.write(result[\"title\"]+\"-----\"+result[\"score\"]+\"\\n\")\n",
    "print(\"successfully\")\n",
    "f.close()"
   ]
  },
  {
   "cell_type": "markdown",
   "metadata": {},
   "source": [
    "### 爬取照片"
   ]
  },
  {
   "cell_type": "code",
   "execution_count": 43,
   "metadata": {},
   "outputs": [],
   "source": [
    "url = \"https://b-ssl.duitang.com/uploads/item/201703/23/20170323235258_NwVeM.thumb.700_0.jpeg\"\n",
    "data = urllib.request.urlretrieve(url=url, filename=\"凛.jpeg\") "
   ]
  },
  {
   "cell_type": "markdown",
   "metadata": {},
   "source": [
    "### 爬取国家药品监督管理总局中基于中华人民共和国化妆品生产许可证相关数据http://125.35.6.84:81/xk"
   ]
  },
  {
   "cell_type": "code",
   "execution_count": 69,
   "metadata": {},
   "outputs": [
    {
     "name": "stdout",
     "output_type": "stream",
     "text": [
      "typing starting page num1\n",
      "typing ending page num2\n",
      "successfully\n"
     ]
    }
   ],
   "source": [
    "url_data = \"http://125.35.6.84:81/xk/itownet/portalAction.do?method=getXkzsList\"\n",
    "url_data_detail = \"http://125.35.6.84:81/xk/itownet/portalAction.do?method=getXkzsById\"\n",
    "header ={\n",
    "    'User-Agent':\"Mozilla/5.0 (Windows NT 6.1; WOW64) AppleWebKit/537.36 (KHTML, like Gecko) Chrome/70.0.3538.110 Safari/537.36\"\n",
    "} \n",
    "url_data_detail_param = {\n",
    "    \"id\": \"ID\"\n",
    "}\n",
    "start_page = int(input(\"typing starting page num\"))\n",
    "end_page = int(input(\"typing ending page num\"))\n",
    "f = open(\"化妆品详细信息.txt\",\"w\",encoding=\"utf8\")\n",
    "for page_num in range(start_page, end_page+1):\n",
    "    url_data_param = {\n",
    "    \"on\": \"true\",\n",
    "    \" page\": page_num,\n",
    "    \"pageSize\": 15,\n",
    "    \"productName\": \"\",\n",
    "    \"conditionType\": 1,\n",
    "    \"applyname\": \"\",\n",
    "    \"applysn\": \"\" \n",
    "    }\n",
    "    id_list = requests.post(url=url_data,params=url_data_param,headers=header).json()\n",
    "    for id_content in id_list[\"list\"]:\n",
    "        ID = id_content[\"ID\"]\n",
    "        url_data_detail_param = {\n",
    "            \"id\": ID\n",
    "            }\n",
    "        detail_data = requests.post(url=url_data_detail,params=url_data_detail_param,headers=header).json()\n",
    "        f.write(detail_data[\"epsName\"]+\"\\t\")\n",
    "        f.write(detail_data[\"certStr\"]+\"\\t\")\n",
    "        f.write(detail_data[\"legalPerson\"]+\"\\t\")\n",
    "        f.write(detail_data[\"epsAddress\"]+\"\\n\")\n",
    "        \n",
    "print(\"successfully\")\n",
    "f.close()        \n"
   ]
  },
  {
   "cell_type": "markdown",
   "metadata": {},
   "source": [
    "### bs4"
   ]
  },
  {
   "cell_type": "code",
   "execution_count": null,
   "metadata": {},
   "outputs": [],
   "source": [
    "url = \"http://www.shicimingju.com/book/sanguoyanyi.html\"\n",
    "header ={\n",
    "    'User-Agent':\"Mozilla/5.0 (Windows NT 6.1; WOW64) AppleWebKit/537.36 (KHTML, like Gecko) Chrome/70.0.3538.110 Safari/537.36\"\n",
    "} \n",
    "page_obj = requests.get(url=url, headers=header).text\n",
    "bs = BeautifulSoup(page_obj,\"lxml\")\n",
    "print(bs)\n"
   ]
  }
 ],
 "metadata": {
  "kernelspec": {
   "display_name": "Python 3",
   "language": "python",
   "name": "python3"
  },
  "language_info": {
   "codemirror_mode": {
    "name": "ipython",
    "version": 3
   },
   "file_extension": ".py",
   "mimetype": "text/x-python",
   "name": "python",
   "nbconvert_exporter": "python",
   "pygments_lexer": "ipython3",
   "version": "3.7.0"
  }
 },
 "nbformat": 4,
 "nbformat_minor": 2
}
